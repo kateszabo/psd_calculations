{
 "cells": [
  {
   "cell_type": "markdown",
   "metadata": {},
   "source": [
    "# PSD plots"
   ]
  },
  {
   "cell_type": "code",
   "execution_count": 5,
   "metadata": {},
   "outputs": [],
   "source": [
    "import numpy as np\n",
    "import spinmob as sm\n",
    "import matplotlib.pyplot as plt"
   ]
  },
  {
   "cell_type": "code",
   "execution_count": 7,
   "metadata": {},
   "outputs": [],
   "source": [
    "# Load files\n",
    "sig_paths = sm.dialogs.load_multiple()\n",
    "sig_data = sm.data.load_multiple(sig_paths)\n",
    "\n",
    "det_paths = sm.dialogs.load_multiple()\n",
    "det_data = sm.data.load_multiple(det_paths)"
   ]
  },
  {
   "cell_type": "code",
   "execution_count": 17,
   "metadata": {},
   "outputs": [
    {
     "name": "stdout",
     "output_type": "stream",
     "text": [
      "-250.14471\n"
     ]
    }
   ],
   "source": [
    "# sig_data[file][column]\n",
    "print(sig_data[0][0][0])\n",
    "plt.plot(sig_data[0][0], sig_data[0][1])\n",
    "plt.show()"
   ]
  },
  {
   "cell_type": "code",
   "execution_count": null,
   "metadata": {},
   "outputs": [],
   "source": [
    "f, psd = sm.fun.psd(sig_data[0][0])"
   ]
  }
 ],
 "metadata": {
  "language_info": {
   "name": "python"
  }
 },
 "nbformat": 4,
 "nbformat_minor": 2
}
